{
  "nbformat": 4,
  "nbformat_minor": 0,
  "metadata": {
    "colab": {
      "provenance": [],
      "authorship_tag": "ABX9TyMh8d62aKBMKFX1I0XN5c+v",
      "include_colab_link": true
    },
    "kernelspec": {
      "name": "python3",
      "display_name": "Python 3"
    },
    "language_info": {
      "name": "python"
    }
  },
  "cells": [
    {
      "cell_type": "markdown",
      "metadata": {
        "id": "view-in-github",
        "colab_type": "text"
      },
      "source": [
        "<a href=\"https://colab.research.google.com/github/SanuraagM/Improved-K-Means-/blob/main/Improved_K_Means.ipynb\" target=\"_parent\"><img src=\"https://colab.research.google.com/assets/colab-badge.svg\" alt=\"Open In Colab\"/></a>"
      ]
    },
    {
      "cell_type": "code",
      "execution_count": 184,
      "metadata": {
        "id": "va6oum-ejz_v"
      },
      "outputs": [],
      "source": [
        "import numpy as np\n",
        "import seaborn as sns\n",
        "import pandas as pd\n",
        "import matplotlib.pyplot as plt"
      ]
    },
    {
      "cell_type": "code",
      "source": [
        "from google.colab import files\n",
        "uploaded = files.upload()"
      ],
      "metadata": {
        "colab": {
          "base_uri": "https://localhost:8080/",
          "height": 73
        },
        "id": "vJTE05DIkT9P",
        "outputId": "7efefa05-f19f-4006-e248-b133a2b4f624"
      },
      "execution_count": 185,
      "outputs": [
        {
          "output_type": "display_data",
          "data": {
            "text/plain": [
              "<IPython.core.display.HTML object>"
            ],
            "text/html": [
              "\n",
              "     <input type=\"file\" id=\"files-771982f5-9c36-4bc8-be1c-ace355d72861\" name=\"files[]\" multiple disabled\n",
              "        style=\"border:none\" />\n",
              "     <output id=\"result-771982f5-9c36-4bc8-be1c-ace355d72861\">\n",
              "      Upload widget is only available when the cell has been executed in the\n",
              "      current browser session. Please rerun this cell to enable.\n",
              "      </output>\n",
              "      <script>// Copyright 2017 Google LLC\n",
              "//\n",
              "// Licensed under the Apache License, Version 2.0 (the \"License\");\n",
              "// you may not use this file except in compliance with the License.\n",
              "// You may obtain a copy of the License at\n",
              "//\n",
              "//      http://www.apache.org/licenses/LICENSE-2.0\n",
              "//\n",
              "// Unless required by applicable law or agreed to in writing, software\n",
              "// distributed under the License is distributed on an \"AS IS\" BASIS,\n",
              "// WITHOUT WARRANTIES OR CONDITIONS OF ANY KIND, either express or implied.\n",
              "// See the License for the specific language governing permissions and\n",
              "// limitations under the License.\n",
              "\n",
              "/**\n",
              " * @fileoverview Helpers for google.colab Python module.\n",
              " */\n",
              "(function(scope) {\n",
              "function span(text, styleAttributes = {}) {\n",
              "  const element = document.createElement('span');\n",
              "  element.textContent = text;\n",
              "  for (const key of Object.keys(styleAttributes)) {\n",
              "    element.style[key] = styleAttributes[key];\n",
              "  }\n",
              "  return element;\n",
              "}\n",
              "\n",
              "// Max number of bytes which will be uploaded at a time.\n",
              "const MAX_PAYLOAD_SIZE = 100 * 1024;\n",
              "\n",
              "function _uploadFiles(inputId, outputId) {\n",
              "  const steps = uploadFilesStep(inputId, outputId);\n",
              "  const outputElement = document.getElementById(outputId);\n",
              "  // Cache steps on the outputElement to make it available for the next call\n",
              "  // to uploadFilesContinue from Python.\n",
              "  outputElement.steps = steps;\n",
              "\n",
              "  return _uploadFilesContinue(outputId);\n",
              "}\n",
              "\n",
              "// This is roughly an async generator (not supported in the browser yet),\n",
              "// where there are multiple asynchronous steps and the Python side is going\n",
              "// to poll for completion of each step.\n",
              "// This uses a Promise to block the python side on completion of each step,\n",
              "// then passes the result of the previous step as the input to the next step.\n",
              "function _uploadFilesContinue(outputId) {\n",
              "  const outputElement = document.getElementById(outputId);\n",
              "  const steps = outputElement.steps;\n",
              "\n",
              "  const next = steps.next(outputElement.lastPromiseValue);\n",
              "  return Promise.resolve(next.value.promise).then((value) => {\n",
              "    // Cache the last promise value to make it available to the next\n",
              "    // step of the generator.\n",
              "    outputElement.lastPromiseValue = value;\n",
              "    return next.value.response;\n",
              "  });\n",
              "}\n",
              "\n",
              "/**\n",
              " * Generator function which is called between each async step of the upload\n",
              " * process.\n",
              " * @param {string} inputId Element ID of the input file picker element.\n",
              " * @param {string} outputId Element ID of the output display.\n",
              " * @return {!Iterable<!Object>} Iterable of next steps.\n",
              " */\n",
              "function* uploadFilesStep(inputId, outputId) {\n",
              "  const inputElement = document.getElementById(inputId);\n",
              "  inputElement.disabled = false;\n",
              "\n",
              "  const outputElement = document.getElementById(outputId);\n",
              "  outputElement.innerHTML = '';\n",
              "\n",
              "  const pickedPromise = new Promise((resolve) => {\n",
              "    inputElement.addEventListener('change', (e) => {\n",
              "      resolve(e.target.files);\n",
              "    });\n",
              "  });\n",
              "\n",
              "  const cancel = document.createElement('button');\n",
              "  inputElement.parentElement.appendChild(cancel);\n",
              "  cancel.textContent = 'Cancel upload';\n",
              "  const cancelPromise = new Promise((resolve) => {\n",
              "    cancel.onclick = () => {\n",
              "      resolve(null);\n",
              "    };\n",
              "  });\n",
              "\n",
              "  // Wait for the user to pick the files.\n",
              "  const files = yield {\n",
              "    promise: Promise.race([pickedPromise, cancelPromise]),\n",
              "    response: {\n",
              "      action: 'starting',\n",
              "    }\n",
              "  };\n",
              "\n",
              "  cancel.remove();\n",
              "\n",
              "  // Disable the input element since further picks are not allowed.\n",
              "  inputElement.disabled = true;\n",
              "\n",
              "  if (!files) {\n",
              "    return {\n",
              "      response: {\n",
              "        action: 'complete',\n",
              "      }\n",
              "    };\n",
              "  }\n",
              "\n",
              "  for (const file of files) {\n",
              "    const li = document.createElement('li');\n",
              "    li.append(span(file.name, {fontWeight: 'bold'}));\n",
              "    li.append(span(\n",
              "        `(${file.type || 'n/a'}) - ${file.size} bytes, ` +\n",
              "        `last modified: ${\n",
              "            file.lastModifiedDate ? file.lastModifiedDate.toLocaleDateString() :\n",
              "                                    'n/a'} - `));\n",
              "    const percent = span('0% done');\n",
              "    li.appendChild(percent);\n",
              "\n",
              "    outputElement.appendChild(li);\n",
              "\n",
              "    const fileDataPromise = new Promise((resolve) => {\n",
              "      const reader = new FileReader();\n",
              "      reader.onload = (e) => {\n",
              "        resolve(e.target.result);\n",
              "      };\n",
              "      reader.readAsArrayBuffer(file);\n",
              "    });\n",
              "    // Wait for the data to be ready.\n",
              "    let fileData = yield {\n",
              "      promise: fileDataPromise,\n",
              "      response: {\n",
              "        action: 'continue',\n",
              "      }\n",
              "    };\n",
              "\n",
              "    // Use a chunked sending to avoid message size limits. See b/62115660.\n",
              "    let position = 0;\n",
              "    do {\n",
              "      const length = Math.min(fileData.byteLength - position, MAX_PAYLOAD_SIZE);\n",
              "      const chunk = new Uint8Array(fileData, position, length);\n",
              "      position += length;\n",
              "\n",
              "      const base64 = btoa(String.fromCharCode.apply(null, chunk));\n",
              "      yield {\n",
              "        response: {\n",
              "          action: 'append',\n",
              "          file: file.name,\n",
              "          data: base64,\n",
              "        },\n",
              "      };\n",
              "\n",
              "      let percentDone = fileData.byteLength === 0 ?\n",
              "          100 :\n",
              "          Math.round((position / fileData.byteLength) * 100);\n",
              "      percent.textContent = `${percentDone}% done`;\n",
              "\n",
              "    } while (position < fileData.byteLength);\n",
              "  }\n",
              "\n",
              "  // All done.\n",
              "  yield {\n",
              "    response: {\n",
              "      action: 'complete',\n",
              "    }\n",
              "  };\n",
              "}\n",
              "\n",
              "scope.google = scope.google || {};\n",
              "scope.google.colab = scope.google.colab || {};\n",
              "scope.google.colab._files = {\n",
              "  _uploadFiles,\n",
              "  _uploadFilesContinue,\n",
              "};\n",
              "})(self);\n",
              "</script> "
            ]
          },
          "metadata": {}
        },
        {
          "output_type": "stream",
          "name": "stdout",
          "text": [
            "Saving Clustering.csv to Clustering (4).csv\n"
          ]
        }
      ]
    },
    {
      "cell_type": "code",
      "source": [
        "import io \n",
        "df = pd.read_csv(io.BytesIO(uploaded['Clustering.csv']))"
      ],
      "metadata": {
        "id": "AoTy6F5ykz_J"
      },
      "execution_count": 186,
      "outputs": []
    },
    {
      "cell_type": "code",
      "source": [
        "df"
      ],
      "metadata": {
        "colab": {
          "base_uri": "https://localhost:8080/",
          "height": 423
        },
        "id": "YBjzL5qvleXi",
        "outputId": "23792335-214d-4026-8c72-0d147101130e"
      },
      "execution_count": 187,
      "outputs": [
        {
          "output_type": "execute_result",
          "data": {
            "text/plain": [
              "            x          y\n",
              "0    3.367596   3.536694\n",
              "1    2.667870   4.479919\n",
              "2    1.344171   3.282591\n",
              "3    1.389414   4.683227\n",
              "4    1.644644   4.320822\n",
              "..        ...        ...\n",
              "185  8.610144  10.429247\n",
              "186  6.775686  11.724382\n",
              "187  7.023465   9.632056\n",
              "188  6.115584   9.449803\n",
              "189  7.868889  12.894445\n",
              "\n",
              "[190 rows x 2 columns]"
            ],
            "text/html": [
              "\n",
              "  <div id=\"df-633c6180-f16e-43fa-8948-9a38ac4bc75c\">\n",
              "    <div class=\"colab-df-container\">\n",
              "      <div>\n",
              "<style scoped>\n",
              "    .dataframe tbody tr th:only-of-type {\n",
              "        vertical-align: middle;\n",
              "    }\n",
              "\n",
              "    .dataframe tbody tr th {\n",
              "        vertical-align: top;\n",
              "    }\n",
              "\n",
              "    .dataframe thead th {\n",
              "        text-align: right;\n",
              "    }\n",
              "</style>\n",
              "<table border=\"1\" class=\"dataframe\">\n",
              "  <thead>\n",
              "    <tr style=\"text-align: right;\">\n",
              "      <th></th>\n",
              "      <th>x</th>\n",
              "      <th>y</th>\n",
              "    </tr>\n",
              "  </thead>\n",
              "  <tbody>\n",
              "    <tr>\n",
              "      <th>0</th>\n",
              "      <td>3.367596</td>\n",
              "      <td>3.536694</td>\n",
              "    </tr>\n",
              "    <tr>\n",
              "      <th>1</th>\n",
              "      <td>2.667870</td>\n",
              "      <td>4.479919</td>\n",
              "    </tr>\n",
              "    <tr>\n",
              "      <th>2</th>\n",
              "      <td>1.344171</td>\n",
              "      <td>3.282591</td>\n",
              "    </tr>\n",
              "    <tr>\n",
              "      <th>3</th>\n",
              "      <td>1.389414</td>\n",
              "      <td>4.683227</td>\n",
              "    </tr>\n",
              "    <tr>\n",
              "      <th>4</th>\n",
              "      <td>1.644644</td>\n",
              "      <td>4.320822</td>\n",
              "    </tr>\n",
              "    <tr>\n",
              "      <th>...</th>\n",
              "      <td>...</td>\n",
              "      <td>...</td>\n",
              "    </tr>\n",
              "    <tr>\n",
              "      <th>185</th>\n",
              "      <td>8.610144</td>\n",
              "      <td>10.429247</td>\n",
              "    </tr>\n",
              "    <tr>\n",
              "      <th>186</th>\n",
              "      <td>6.775686</td>\n",
              "      <td>11.724382</td>\n",
              "    </tr>\n",
              "    <tr>\n",
              "      <th>187</th>\n",
              "      <td>7.023465</td>\n",
              "      <td>9.632056</td>\n",
              "    </tr>\n",
              "    <tr>\n",
              "      <th>188</th>\n",
              "      <td>6.115584</td>\n",
              "      <td>9.449803</td>\n",
              "    </tr>\n",
              "    <tr>\n",
              "      <th>189</th>\n",
              "      <td>7.868889</td>\n",
              "      <td>12.894445</td>\n",
              "    </tr>\n",
              "  </tbody>\n",
              "</table>\n",
              "<p>190 rows × 2 columns</p>\n",
              "</div>\n",
              "      <button class=\"colab-df-convert\" onclick=\"convertToInteractive('df-633c6180-f16e-43fa-8948-9a38ac4bc75c')\"\n",
              "              title=\"Convert this dataframe to an interactive table.\"\n",
              "              style=\"display:none;\">\n",
              "        \n",
              "  <svg xmlns=\"http://www.w3.org/2000/svg\" height=\"24px\"viewBox=\"0 0 24 24\"\n",
              "       width=\"24px\">\n",
              "    <path d=\"M0 0h24v24H0V0z\" fill=\"none\"/>\n",
              "    <path d=\"M18.56 5.44l.94 2.06.94-2.06 2.06-.94-2.06-.94-.94-2.06-.94 2.06-2.06.94zm-11 1L8.5 8.5l.94-2.06 2.06-.94-2.06-.94L8.5 2.5l-.94 2.06-2.06.94zm10 10l.94 2.06.94-2.06 2.06-.94-2.06-.94-.94-2.06-.94 2.06-2.06.94z\"/><path d=\"M17.41 7.96l-1.37-1.37c-.4-.4-.92-.59-1.43-.59-.52 0-1.04.2-1.43.59L10.3 9.45l-7.72 7.72c-.78.78-.78 2.05 0 2.83L4 21.41c.39.39.9.59 1.41.59.51 0 1.02-.2 1.41-.59l7.78-7.78 2.81-2.81c.8-.78.8-2.07 0-2.86zM5.41 20L4 18.59l7.72-7.72 1.47 1.35L5.41 20z\"/>\n",
              "  </svg>\n",
              "      </button>\n",
              "      \n",
              "  <style>\n",
              "    .colab-df-container {\n",
              "      display:flex;\n",
              "      flex-wrap:wrap;\n",
              "      gap: 12px;\n",
              "    }\n",
              "\n",
              "    .colab-df-convert {\n",
              "      background-color: #E8F0FE;\n",
              "      border: none;\n",
              "      border-radius: 50%;\n",
              "      cursor: pointer;\n",
              "      display: none;\n",
              "      fill: #1967D2;\n",
              "      height: 32px;\n",
              "      padding: 0 0 0 0;\n",
              "      width: 32px;\n",
              "    }\n",
              "\n",
              "    .colab-df-convert:hover {\n",
              "      background-color: #E2EBFA;\n",
              "      box-shadow: 0px 1px 2px rgba(60, 64, 67, 0.3), 0px 1px 3px 1px rgba(60, 64, 67, 0.15);\n",
              "      fill: #174EA6;\n",
              "    }\n",
              "\n",
              "    [theme=dark] .colab-df-convert {\n",
              "      background-color: #3B4455;\n",
              "      fill: #D2E3FC;\n",
              "    }\n",
              "\n",
              "    [theme=dark] .colab-df-convert:hover {\n",
              "      background-color: #434B5C;\n",
              "      box-shadow: 0px 1px 3px 1px rgba(0, 0, 0, 0.15);\n",
              "      filter: drop-shadow(0px 1px 2px rgba(0, 0, 0, 0.3));\n",
              "      fill: #FFFFFF;\n",
              "    }\n",
              "  </style>\n",
              "\n",
              "      <script>\n",
              "        const buttonEl =\n",
              "          document.querySelector('#df-633c6180-f16e-43fa-8948-9a38ac4bc75c button.colab-df-convert');\n",
              "        buttonEl.style.display =\n",
              "          google.colab.kernel.accessAllowed ? 'block' : 'none';\n",
              "\n",
              "        async function convertToInteractive(key) {\n",
              "          const element = document.querySelector('#df-633c6180-f16e-43fa-8948-9a38ac4bc75c');\n",
              "          const dataTable =\n",
              "            await google.colab.kernel.invokeFunction('convertToInteractive',\n",
              "                                                     [key], {});\n",
              "          if (!dataTable) return;\n",
              "\n",
              "          const docLinkHtml = 'Like what you see? Visit the ' +\n",
              "            '<a target=\"_blank\" href=https://colab.research.google.com/notebooks/data_table.ipynb>data table notebook</a>'\n",
              "            + ' to learn more about interactive tables.';\n",
              "          element.innerHTML = '';\n",
              "          dataTable['output_type'] = 'display_data';\n",
              "          await google.colab.output.renderOutput(dataTable, element);\n",
              "          const docLink = document.createElement('div');\n",
              "          docLink.innerHTML = docLinkHtml;\n",
              "          element.appendChild(docLink);\n",
              "        }\n",
              "      </script>\n",
              "    </div>\n",
              "  </div>\n",
              "  "
            ]
          },
          "metadata": {},
          "execution_count": 187
        }
      ]
    },
    {
      "cell_type": "code",
      "source": [
        "df.dtypes\n",
        "n = df.shape[0]\n",
        "dfarr = df.values"
      ],
      "metadata": {
        "id": "kHIBzESklhkb"
      },
      "execution_count": 188,
      "outputs": []
    },
    {
      "cell_type": "code",
      "source": [
        "def dist(x1,x2,y1,y2):\n",
        "   p1=x1-x2\n",
        "   p2=y1-y2\n",
        "   n=p1**2+p2**2\n",
        "   d=np.sqrt(n)\n",
        "   return(d)\n"
      ],
      "metadata": {
        "id": "9v01npXW-n2E"
      },
      "execution_count": 189,
      "outputs": []
    },
    {
      "cell_type": "code",
      "source": [
        "def find_value_location(arr, value):\n",
        "    for i in range(len(arr)):\n",
        "        for j in range(len(arr[0])):\n",
        "            if arr[i][j] == value:\n",
        "                return (j)"
      ],
      "metadata": {
        "id": "d7Lcemiy-jXU"
      },
      "execution_count": 190,
      "outputs": []
    },
    {
      "cell_type": "code",
      "source": [
        "K=2\n",
        "cluster_center = np.empty((K, 2), dtype=float)\n",
        "for i in range (K) :\n",
        "  random_row = df.sample()  \n",
        "  cluster_center[i]=random_row #Assigning a random row from the dataframe as cluster center\n",
        "print(cluster_center)"
      ],
      "metadata": {
        "colab": {
          "base_uri": "https://localhost:8080/"
        },
        "id": "MWf-j6ySmcji",
        "outputId": "829cc6ee-be55-4e8f-b5a9-262c3c54d224"
      },
      "execution_count": 191,
      "outputs": [
        {
          "output_type": "stream",
          "name": "stdout",
          "text": [
            "[[ 2.08341671  1.92917586]\n",
            " [ 7.975533   10.79934974]]\n"
          ]
        }
      ]
    },
    {
      "cell_type": "code",
      "source": [
        "  \n",
        "  d = np.empty((n, K), dtype=float)\n",
        "  for i in range (n):\n",
        "    d[i][0]=dist(cluster_center[0][0],dfarr[i][0],cluster_center[0][1],dfarr[i][1]) #calculating distance of datapoints from clustercenters\n",
        "    d[i][1]=dist(cluster_center[1][0],dfarr[i][0],cluster_center[1][1],dfarr[i][1])\n",
        "\n",
        "\n",
        "  Cluster1x = []\n",
        "  Cluster1y = []\n",
        "  Cluster2x = []\n",
        "  Cluster2y = []\n",
        "\n",
        "  for i in range (n):\n",
        "    j=find_value_location(d, min(d[i]))\n",
        "    if (j==0):\n",
        "      Cluster1x=np.append(Cluster1x,dfarr[i][0]) # Assigning the clusters with datapoints x coordinate\n",
        "      Cluster1y=np.append(Cluster1y,dfarr[i][1]) # Assigning the clusters with datapoints y coordinate\n",
        "    elif (j==1):\n",
        "      Cluster2x=np.append(Cluster2x,dfarr[i][0])\n",
        "      Cluster2y=np.append(Cluster2y,dfarr[i][1])\n",
        "\n",
        "  print(Cluster1x.shape) # identifying the number of points in each cluster\n",
        "  print(Cluster2x.shape)\n",
        "  print(cluster_center)\n",
        "  a=Cluster1x.shape\n",
        "  cluster_center[0][0]=np.mean(Cluster1x) # Updating the cluster centers\n",
        "  cluster_center[0][1]=np.mean(Cluster1y)\n",
        "  cluster_center[1][0]=np.mean(Cluster2x)\n",
        "  cluster_center[1][1]=np.mean(Cluster2y)\n",
        "\n",
        "  \n"
      ],
      "metadata": {
        "colab": {
          "base_uri": "https://localhost:8080/"
        },
        "id": "nKn2ktAf9vU9",
        "outputId": "990344d5-64aa-4a1e-d565-a1cfe8ffce83"
      },
      "execution_count": 192,
      "outputs": [
        {
          "output_type": "stream",
          "name": "stdout",
          "text": [
            "(101,)\n",
            "(89,)\n",
            "[[ 2.08341671  1.92917586]\n",
            " [ 7.975533   10.79934974]]\n"
          ]
        }
      ]
    },
    {
      "cell_type": "code",
      "source": [
        "new_d = np.empty((n,K), dtype=float)\n",
        "for i in range (n):\n",
        "  new_d[i][0]=dist(cluster_center[0][0],dfarr[i][0],cluster_center[0][1],dfarr[i][1]) #calculating the new distance of datapoints from clustercenters\n",
        "  new_d[i][1]=dist(cluster_center[1][0],dfarr[i][0],cluster_center[1][1],dfarr[i][1])"
      ],
      "metadata": {
        "id": "1OwjRt1iCz-3"
      },
      "execution_count": 193,
      "outputs": []
    },
    {
      "cell_type": "code",
      "source": [
        "a=0\n",
        "while (True):\n",
        "  for i in range(n):\n",
        "    J=find_value_location(d, min(d[i]))\n",
        "    if new_d[i][J]>d[i][J]:                          #Comparing the new and previous distance of each points from cluster center\n",
        "      j=find_value_location(new_d, min(new_d[i]))    \n",
        "      if j!=J :\n",
        "        if (j==0):\n",
        "          Cluster1x=np.append(Cluster1x,dfarr[i][0]) # Updating the cluster1 with datapoints x coordinate\n",
        "          Cluster1y=np.append(Cluster1y,dfarr[i][1]) # Updating the cluster1 with datapoints y coordinate\n",
        "          rows_to_remove = Cluster2x == dfarr[i][0]\n",
        "          Cluster2x = Cluster2x[~rows_to_remove]\n",
        "          rows_to_remove = Cluster2y == dfarr[i][1]\n",
        "          Cluster2y = Cluster2y[~rows_to_remove]\n",
        "        elif (j==1):\n",
        "          Cluster2x=np.append(Cluster2x,dfarr[i][0]) # Updating the cluster2 with datapoints x coordinate\n",
        "          Cluster2y=np.append(Cluster2y,dfarr[i][1]) # Updating the cluster2 with datapoints y coordinate\n",
        "          rows_to_remove = Cluster1x == dfarr[i][0]\n",
        "          Cluster1x = Cluster1x[~rows_to_remove]\n",
        "          rows_to_remove = Cluster1y == dfarr[i][1]\n",
        "          Cluster1y = Cluster1y[~rows_to_remove]\n",
        "  \n",
        "  print(Cluster1x.shape) # identifying the number of points in each cluster\n",
        "  print(Cluster2x.shape)\n",
        "  print(cluster_center)\n",
        "  \n",
        "  cluster_center[0][0]=np.mean(Cluster1x) # Updating the cluster centers\n",
        "  cluster_center[0][1]=np.mean(Cluster1y)\n",
        "  cluster_center[1][0]=np.mean(Cluster2x)\n",
        "  cluster_center[1][1]=np.mean(Cluster2y)\n",
        "  if(cluster_center[0][0]==a):\n",
        "    break\n",
        "  a=np.mean(Cluster1x)\n",
        "  d=new_d"
      ],
      "metadata": {
        "colab": {
          "base_uri": "https://localhost:8080/"
        },
        "id": "1ClNaP8pDNFS",
        "outputId": "c12e2c25-bbca-468b-a20a-45394af82c85"
      },
      "execution_count": 197,
      "outputs": [
        {
          "output_type": "stream",
          "name": "stdout",
          "text": [
            "(101,)\n",
            "(89,)\n",
            "[[1.8295627  3.15937099]\n",
            " [8.00295205 9.96079954]]\n",
            "(101,)\n",
            "(89,)\n",
            "[[1.8295627  3.15937099]\n",
            " [8.00295205 9.96079954]]\n"
          ]
        }
      ]
    },
    {
      "cell_type": "code",
      "source": [
        "  d = np.empty((n, K), dtype=float)\n",
        "  for i in range (n):\n",
        "    d[i][0]=dist(cluster_center[0][0],dfarr[i][0],cluster_center[0][1],dfarr[i][1]) #calculating distance of datapoints from clustercenters\n",
        "    d[i][1]=dist(cluster_center[1][0],dfarr[i][0],cluster_center[1][1],dfarr[i][1])"
      ],
      "metadata": {
        "id": "zUAiTHqIIdLN"
      },
      "execution_count": 195,
      "outputs": []
    },
    {
      "cell_type": "code",
      "source": [
        "Cluster1=[]\n",
        "Cluster2=[]\n",
        "for i in range(n):\n",
        "\n",
        "  j=find_value_location(d,min(d[i]))\n",
        "  if (j==0):\n",
        "    Cluster1.append(df.iloc[i].tolist())\n",
        "  elif (j==1):\n",
        "    Cluster2.append(df.iloc[i].tolist())\n",
        "print(Cluster1)\n",
        "print(Cluster2)"
      ],
      "metadata": {
        "colab": {
          "base_uri": "https://localhost:8080/"
        },
        "id": "5WM5DF5g9KZh",
        "outputId": "975632c1-03ca-44d9-a017-f48608a59492"
      },
      "execution_count": 196,
      "outputs": [
        {
          "output_type": "stream",
          "name": "stdout",
          "text": [
            "[[3.367595992, 3.536693976], [2.667869766, 4.479918773], [1.34417121, 3.28259119], [1.389413781, 4.683226649], [1.644643839, 4.320822372], [0.776027424, 2.653666763], [3.264101412, 3.692761955], [-0.182646569, 2.592825707], [1.138215029, 2.800296375], [0.759164489, 4.648057452], [2.164526614, 3.355084546], [-0.093799022, 3.406345086], [1.748728207, 2.318376112], [2.077867213, 5.316457862], [2.456727403, 1.825483626], [0.614715125, 3.242371429], [2.8111124, 1.929037857], [2.719377151, 2.392575984], [1.912883969, 4.536237226], [3.231670986, 3.012060236], [1.463657172, 1.74325882], [2.019935554, 2.228683192], [2.524658209, 3.677928919], [2.547609253, 2.232318462], [1.029465626, 1.436641809], [3.502668811, 4.020180816], [1.701383352, 2.060109896], [1.351904811, 3.51179265], [0.226915793, 2.277328401], [1.499936663, 2.959304954], [2.521173676, 3.282199335], [2.237783894, 0.837199144], [1.999744589, 3.420673734], [2.628220717, 3.886863115], [3.583228512, 3.962464196], [1.275954144, 3.424758325], [0.253584193, 3.218047658], [1.847989369, 3.121845046], [2.698151201, 2.85448706], [0.58131884, 4.087533903], [1.237213567, 3.120181794], [1.599161708, 2.431503746], [0.149619793, 2.842907183], [1.869635947, 0.959055553], [2.253124479, 3.142370787], [1.816479005, 2.473554668], [2.129967987, 1.347321001], [2.338169862, 1.907312217], [1.278202666, 3.754931109], [1.907020185, 4.389320202], [2.294966805, 3.789343164], [2.487479187, 2.491130505], [3.146031465, 1.40449708], [0.68702537, 4.712229137], [0.118225851, 4.045413675], [3.228773261, 3.596146057], [0.83459662, -0.476741527], [2.670539774, 3.304044078], [0.995295069, 1.89509995], [1.867569633, 2.538100052], [0.814470957, 2.954889745], [0.416079776, 4.420562262], [1.202423539, 2.484764434], [1.028195725, 2.635286995], [2.826408107, 4.84584388], [-0.71630683, 4.461110257], [2.54810601, 3.771460773], [1.763795386, 5.597060009], [1.676798327, 2.160435329], [1.583432678, 3.95158827], [1.861737924, 2.234219908], [-1.428115006, 3.761948435], [0.99895081, 2.662759806], [2.815044125, 4.530846557], [2.083416713, 1.929175859], [2.658113046, 1.423823552], [1.620182196, 1.723980918], [1.563441753, 3.509543043], [4.420067155, 3.927994949], [1.075000696, 2.420656699], [0.997638531, 3.78179614], [-0.555229609, 2.577116127], [1.07637815, 2.539575915], [1.482005249, 1.326800642], [4.512141391, 2.661086134], [2.316389543, 1.946224212], [0.861551933, 3.406884677], [2.90460785, 3.15559713], [1.846682714, 3.885452345], [1.205860245, 2.15038338], [1.69115511, 3.943201698], [3.421511818, 3.186611939], [0.971425373, 2.487196716], [2.33201028, 2.88989337], [2.309321876, 3.431251241], [3.530293809, 4.166830185], [1.973032026, 3.207614513], [1.63232043, 3.527785263], [1.211160073, 3.855967205], [2.062051065, 4.825668286]]\n",
            "[[8.039497666, 9.013560491], [8.725765947, 9.978673545], [5.622332271, 8.436174984], [8.607547214, 9.073157161], [9.377507454, 9.209415582], [10.02818314, 10.15719885], [7.344570604, 10.88859205], [9.733589549, 7.430913807], [7.404768419, 9.207981327], [6.518563628, 8.868711133], [8.11106731, 10.23231794], [8.775822381, 7.381017852], [8.662217477, 10.53633968], [6.67008571, 10.18502174], [9.237010977, 10.1199683], [9.772103275, 8.061928992], [7.220447103, 10.79426942], [6.759281039, 11.25265201], [8.130328141, 9.636119973], [7.365491989, 9.617440439], [9.017947735, 10.16636351], [7.543167345, 9.988662336], [8.347948282, 11.13885386], [8.249655169, 9.778281545], [7.51465653, 10.77807353], [8.364378753, 9.707333832], [8.132142857, 12.66054408], [7.950362302, 9.106381795], [8.738037995, 10.09004234], [9.016939499, 11.26716618], [7.485280597, 10.58595526], [7.851756628, 9.799061971], [6.996570365, 10.96271581], [5.990517734, 11.58287848], [8.329451878, 10.02799544], [7.720235175, 9.932144014], [7.379111706, 9.611850663], [10.4914146, 10.44646872], [6.305631474, 8.324423548], [7.301816483, 9.457699141], [7.107999678, 9.374379145], [7.409974312, 12.51830664], [6.588993842, 10.68720079], [6.920197482, 9.621626478], [8.024078483, 11.3579874], [9.146350071, 9.162531619], [7.494541433, 11.62413752], [10.14684802, 10.66260411], [7.975532998, 10.79934974], [7.016815678, 9.536379722], [7.637560393, 9.026995734], [7.559691522, 10.60879984], [7.295116542, 9.894385838], [9.112778856, 11.60150094], [7.954526321, 10.70671824], [8.526136058, 10.64071594], [8.429544051, 10.31045026], [9.325108265, 10.7859885], [7.428023943, 8.998803013], [7.85994726, 9.698286443], [7.642070077, 11.9224055], [6.971315843, 8.326532458], [7.664379898, 10.75480044], [10.01466761, 7.960137913], [7.856027189, 8.801687543], [7.957202846, 10.73634312], [7.761306004, 9.583209201], [8.898215301, 10.78726885], [7.24680568, 10.03363091], [7.410526478, 9.335963678], [7.956442924, 8.993723564], [7.910265908, 7.634659752], [8.392819118, 10.44811218], [8.58366326, 7.268027998], [6.841616708, 9.41915071], [8.397940221, 9.803314143], [8.8373851, 10.67224772], [7.698303048, 9.216561616], [6.239386477, 9.716879606], [6.881311095, 10.39113685], [10.63904653, 9.616115417], [8.9538678, 9.525149859], [8.481263848, 10.604407], [10.67457736, 9.464943346], [8.141121425, 9.052666688], [8.610143728, 10.42924737], [6.775686391, 11.72438234], [7.023465409, 9.632055717], [6.115584425, 9.449803135], [7.868888502, 12.89444456]]\n"
          ]
        }
      ]
    }
  ]
}